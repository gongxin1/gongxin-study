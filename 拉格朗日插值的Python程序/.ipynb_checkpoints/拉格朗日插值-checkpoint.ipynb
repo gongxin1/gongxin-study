{
 "cells": [
  {
   "cell_type": "markdown",
   "metadata": {},
   "source": [
    "# 1.拉格朗日插值在Python下的实现-调用Lagrange函数"
   ]
  },
  {
   "cell_type": "code",
   "execution_count": 13,
   "metadata": {},
   "outputs": [],
   "source": [
    "from scipy.interpolate import lagrange#直接调用Lagrange（x,y）函数"
   ]
  },
  {
   "cell_type": "code",
   "execution_count": 26,
   "metadata": {},
   "outputs": [
    {
     "name": "stdout",
     "output_type": "stream",
     "text": [
      "        3     2\n",
      "0.1667 x - 1 x + 2.833 x + 3\n"
     ]
    }
   ],
   "source": [
    "x=[1,2,3,4]#求过(1,5),(2,6)(3,7),(4,9)这四个点的函数\n",
    "y=[5,6,7,9]\n",
    "f=lagrange(x,y)\n",
    "print(f)"
   ]
  },
  {
   "cell_type": "code",
   "execution_count": 27,
   "metadata": {},
   "outputs": [
    {
     "name": "stdout",
     "output_type": "stream",
     "text": [
      "3.0\n"
     ]
    }
   ],
   "source": [
    "print(f(0))#求x=0时的函数值"
   ]
  },
  {
   "cell_type": "code",
   "execution_count": 29,
   "metadata": {},
   "outputs": [
    {
     "name": "stdout",
     "output_type": "stream",
     "text": [
      "3.0 2.83333333333 -1.0 0.166666666667\n"
     ]
    }
   ],
   "source": [
    "print(f[0],f[1],f[2],f[3])#求函数的系数"
   ]
  },
  {
   "cell_type": "markdown",
   "metadata": {},
   "source": [
    "# 2.定义Lagrange函数"
   ]
  },
  {
   "cell_type": "code",
   "execution_count": 8,
   "metadata": {},
   "outputs": [
    {
     "name": "stdout",
     "output_type": "stream",
     "text": [
      "3.0\n"
     ]
    }
   ],
   "source": [
    "def f(x,y,a):#定义插值函数,其中a为想取函数的值，用来验证\n",
    "    ans=0.0\n",
    "    for i in range(len(y)):\n",
    "        t=y[i]\n",
    "        for j in range(len(y)):\n",
    "            if i!=j:\n",
    "                t*=(a-x[j])/(x[i]-x[j])\n",
    "        ans +=t\n",
    "    return ans\n",
    "x=[1,2,3,4]\n",
    "y=[5,6,7,9]\n",
    "print(f(x,y,0))"
   ]
  },
  {
   "cell_type": "code",
   "execution_count": 47,
   "metadata": {},
   "outputs": [
    {
     "name": "stdout",
     "output_type": "stream",
     "text": [
      "5.0\n"
     ]
    }
   ],
   "source": [
    "print(f(x,y,1))#当x=1时可知y=5与所给数值一样"
   ]
  },
  {
   "cell_type": "code",
   "execution_count": null,
   "metadata": {},
   "outputs": [],
   "source": []
  }
 ],
 "metadata": {
  "kernelspec": {
   "display_name": "Python 3",
   "language": "python",
   "name": "python3"
  },
  "language_info": {
   "codemirror_mode": {
    "name": "ipython",
    "version": 3
   },
   "file_extension": ".py",
   "mimetype": "text/x-python",
   "name": "python",
   "nbconvert_exporter": "python",
   "pygments_lexer": "ipython3",
   "version": "3.6.5"
  }
 },
 "nbformat": 4,
 "nbformat_minor": 2
}
