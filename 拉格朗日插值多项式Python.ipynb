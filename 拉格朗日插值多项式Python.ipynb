{
 "cells": [
  {
   "cell_type": "markdown",
   "metadata": {},
   "source": [
    "# 拉格朗日插值多项式\n",
    "###   我们将用Python中numpy实现拉格朗日插值，下面介绍拉格朗日插值。\n",
    "### 定义 若n次多项式$l_j(x)(j=0,1,2,...,n)$在$n+1$个节点$x_0< x_1<...< x_n$上满足条件\n",
    "$$\n",
    "l_j(x_k)=\\begin{cases}\n",
    "1,&\\mbox{k=j,}\\\\\n",
    "0,&\\mbox{k$\\neq$j,}\n",
    "\\end{cases}\n",
    "$$\n",
    "### 就称这$n+1$个$n$次多项式$l_0(x)$,$l_1(x)$,...,$l_n(x)$为节点$x_0,...,x_n$上的n次插值基函数。\n",
    "###       n次插值基函数为\n",
    "$$\n",
    "l_k(x)=\\dfrac{(x-x_0)...(x-x_{k-1})(x-x_{k+1})...(x-x_n)}{(x_k-x_0)...(x_k-x_{k-1})(x_k-x_{k+1})...(x_k-x_n)},k=0,1,...,n\n",
    "$$\n",
    "### 插值多项式$L_n(x)$可表示为\n",
    "$$\n",
    "L_n(x)=\\sum_{k=0}^n y_k l_k(x).\n",
    "$$\n",
    "$$\n",
    "L_n(x_j)=\\sum_{k=0}^n y_k l_k(x_j)=y_i,j=0,1,...,n\n",
    "$$\n",
    "### 程序如下"
   ]
  },
  {
   "cell_type": "code",
   "execution_count": 66,
   "metadata": {},
   "outputs": [],
   "source": [
    "import numpy as np\n",
    "def fl(x, y, z):\n",
    "    n = len(x)\n",
    "    X = x.reshape(-1, 1) - x#先将x创建成一个列向量，然后经过广播处理，产生一个n×n矩阵\n",
    "    idx = np.arange(n)\n",
    "    X[idx, idx] = 1#令对角线元素为1\n",
    "    l0 = X.prod(axis=1)#插值基函数的分母，prod（）函数是连乘函数\n",
    "    S = z.reshape(-1, 1) - x\n",
    "    S = np.repeat(S, n, axis=0).reshape(-1, n, n)#repeat()方法沿着axis参数指定的轴复制数组中各个元素的值\n",
    "    S[:,idx, idx] = 1#令矩阵对角线元素为1\n",
    "    l1 = S.prod(axis=-1)#插值基函数的分子\n",
    "    f = np.sum(l1/l0*y, axis=-1)#插值多项式\n",
    "    return f"
   ]
  },
  {
   "cell_type": "code",
   "execution_count": 67,
   "metadata": {},
   "outputs": [],
   "source": [
    "x = np.array([0.32,0.34,0.36])\n",
    "y = np.array([0.314567,0.333487,0.352274])\n",
    "z = np.array([0.32])"
   ]
  },
  {
   "cell_type": "code",
   "execution_count": 68,
   "metadata": {},
   "outputs": [
    {
     "data": {
      "text/plain": [
       "array([ 0.314567])"
      ]
     },
     "execution_count": 68,
     "metadata": {},
     "output_type": "execute_result"
    }
   ],
   "source": [
    "fl(x,y,z)"
   ]
  },
  {
   "cell_type": "code",
   "execution_count": 46,
   "metadata": {},
   "outputs": [
    {
     "data": {
      "text/plain": [
       "array([ 0.32,  0.34,  0.36])"
      ]
     },
     "execution_count": 46,
     "metadata": {},
     "output_type": "execute_result"
    }
   ],
   "source": [
    "x"
   ]
  }
 ],
 "metadata": {
  "kernelspec": {
   "display_name": "Python 3",
   "language": "python",
   "name": "python3"
  },
  "language_info": {
   "codemirror_mode": {
    "name": "ipython",
    "version": 3
   },
   "file_extension": ".py",
   "mimetype": "text/x-python",
   "name": "python",
   "nbconvert_exporter": "python",
   "pygments_lexer": "ipython3",
   "version": "3.6.5"
  },
  "latex_envs": {
   "bibliofile": "biblio.bib",
   "cite_by": "apalike",
   "current_citInitial": 1,
   "eqLabelWithNumbers": true,
   "eqNumInitial": 0
  }
 },
 "nbformat": 4,
 "nbformat_minor": 2
}
