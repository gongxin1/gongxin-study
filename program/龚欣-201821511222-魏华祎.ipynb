{
 "cells": [
  {
   "cell_type": "code",
   "execution_count": 5,
   "metadata": {},
   "outputs": [],
   "source": [
    "import numpy as np\n",
    "import timeit\n",
    "from timeit import default_timer as timer\n",
    "from numpy import random\n",
    "A=random.uniform(1,100,size=(100,100)) #生成一个随机的方阵"
   ]
  },
  {
   "cell_type": "code",
   "execution_count": 6,
   "metadata": {},
   "outputs": [
    {
     "data": {
      "text/plain": [
       "0.1534337819994107"
      ]
     },
     "execution_count": 6,
     "metadata": {},
     "output_type": "execute_result"
    }
   ],
   "source": [
    "start =timer()#计算算法花费的时间\n",
    "def algorithm_2_2(A):\n",
    "    n = len(A)\n",
    "    P, L, U = np.eye(n), np.zeros((n, n)), np.zeros((n, n))\n",
    "    for i in range(n - 1):\n",
    "        m = np.argmax(np.abs(A[i:, i])) + i                        #找出每一列绝对值最大值的行指标\n",
    "        if A[m, i] == 0:                                           #判断A是否奇异\n",
    "            raise ValueError(\"matrix is singular.\")\n",
    "        else:\n",
    "            if m != i:                                             #\n",
    "                A[[i, m], :] = A[[m, i], :]\n",
    "                L[[i, m], :] = L[[m, i], :]\n",
    "                P[[i, m], :] = P[[m, i], :]\n",
    "            for j in range(i + 1, n):\n",
    "                L[j, i] = A[j, i] / A[i, i]\n",
    "\n",
    "            for j in range(i, n):\n",
    "                U[i, j] = A[i, j]\n",
    "\n",
    "            for j in range(i + 1, n):\n",
    "                for k in range(i + 1, n):\n",
    "                    A[j, k] -= L[j, i] * U[i, k]\n",
    "\n",
    "    P = P.T\n",
    "    L += np.eye(n)\n",
    "    U[-1, -1] = A[-1, -1]\n",
    "    return A, P, L, U\n",
    "A, P, L, U=algorithm_2_2(A)\n",
    "#print(\"P=\\n\",algorithm_2_2(A)[1],'\\n'\"L=\\n\",algorithm_2_2(A)[2],'\\n'\"U=\\n\",algorithm_2_2(A)[3])\n",
    "end = timer()\n",
    "end-start"
   ]
  },
  {
   "cell_type": "code",
   "execution_count": 7,
   "metadata": {},
   "outputs": [
    {
     "data": {
      "text/plain": [
       "0.15569647300071665"
      ]
     },
     "execution_count": 7,
     "metadata": {},
     "output_type": "execute_result"
    }
   ],
   "source": [
    "import numpy as np\n",
    "import timeit\n",
    "from timeit import default_timer as timer\n",
    "start =timer()\n",
    "def algorithm_2_3(A):\n",
    "    n = len(A)\n",
    "    P = np.eye(n)\n",
    "    for i in range(n - 1):\n",
    "        m = np.argmax(np.abs(A[i:, i])) + i\n",
    "        if A[m, i] == 0:\n",
    "            raise ValueError(\"matrix is singular.\")\n",
    "        else:\n",
    "            if m != i:\n",
    "                A[[i, m], :] = A[[m, i], :]\n",
    "                P[[i, m], :] = P[[m, i], :]\n",
    "\n",
    "            for j in range(i + 1, n):\n",
    "                A[j, i] = A[j, i] / A[i, i]\n",
    "\n",
    "            for j in range(i + 1, n):\n",
    "                for k in range(i + 1, n):\n",
    "                    A[j, k] -= A[j, i] * A[i, k]\n",
    "\n",
    "    P = P.T\n",
    "    L = np.tril(A, -1) + np.eye(n)\n",
    "    U = np.triu(A, 0)\n",
    "    return A, P, L, U\n",
    "A, P, L, U=algorithm_2_3(A)\n",
    "\n",
    "#print(\"P=\\n\",algorithm_2_2(A)[1],'\\n'\"L=\\n\",algorithm_2_2(A)[2],'\\n'\"U=\\n\",algorithm_2_2(A)[3])\n",
    "end = timer()\n",
    "end-start"
   ]
  },
  {
   "cell_type": "code",
   "execution_count": 8,
   "metadata": {},
   "outputs": [
    {
     "data": {
      "text/plain": [
       "0.004187087000900647"
      ]
     },
     "execution_count": 8,
     "metadata": {},
     "output_type": "execute_result"
    }
   ],
   "source": [
    "import numpy as np\n",
    "import timeit\n",
    "from timeit import default_timer as timer\n",
    "start =timer()\n",
    "def algorithm_2_4(A):\n",
    "    n = len(A)\n",
    "    P = np.eye(n)\n",
    "\n",
    "    for i in range(n - 1):\n",
    "        m = np.argmax(np.abs(A[i:, i])) + i\n",
    "\n",
    "        if A[m, i] == 0:\n",
    "            raise ValueError(\"matrix is singular.\")\n",
    "        else:\n",
    "            if m != i:\n",
    "                A[[i, m], :] = A[[m, i], :]\n",
    "                P[[i, m], :] = P[[m, i], :]\n",
    "\n",
    "            A[(i + 1):, i] /= A[i, i]\n",
    "            A[(i + 1):, (i + 1):] -= A[(i + 1):, i].reshape(-1, 1)*A[i, (i + 1):]\n",
    "\n",
    "    P = P.T\n",
    "    L = np.tril(A, -1) + np.eye(n)\n",
    "    U = np.triu(A, 0)\n",
    "    return A, P, L, U\n",
    "A, P, L, U=algorithm_2_4(A)\n",
    "#print(\"P=\\n\",algorithm_2_2(A)[1],'\\n'\"L=\\n\",algorithm_2_2(A)[2],'\\n'\"U=\\n\",algorithm_2_2(A)[3])\n",
    "end = timer()\n",
    "end-start"
   ]
  },
  {
   "cell_type": "markdown",
   "metadata": {},
   "source": [
    "### 可以看出第二个算法比第一个稍快，第三最好"
   ]
  },
  {
   "cell_type": "markdown",
   "metadata": {},
   "source": [
    "### 问题1.10\n",
    "我们设$\\delta_{i}$为乘法舍入误差，$\\widehat{\\delta}_{i}$为舍入误差，我们有\n",
    "$$ \n",
    "f l\\left(\\sum_{i=1}^{d} x_{i} y_{i}\\right)=\\sum_{i=2}^{d}\\left(\\left(1+\\delta_{i}\\right) \\prod_{j=i-1}^{d-1}\\left(1+\\widehat{\\delta}_{j}\\right) x_{i} y_{i}\\right)+\\left(1+\\delta_{1}\\right) \\prod_{j=1}^{d-1}\\left(1+\\widehat{\\delta}_{j}\\right) x_{1} y_{1}.\n",
    " $$\n",
    "因为\n",
    "$$ \n",
    "1-(d-i+1) \\varepsilon+O\\left(\\varepsilon^{2}\\right) \\leq(1-\\varepsilon)^{d-i+1} \\leq \\prod_{j=i-1}^{d-1}\\left(1+\\widehat{\\delta}_{j}\\right) \\leq(1+\\varepsilon)^{d-i+1} \\leq 1+(d-i+1) \\varepsilon+O\\left(\\varepsilon^{2}\\right)，\n",
    " $$\n",
    " 所以\n",
    " $$ \n",
    "\\begin{array}{l}{f l\\left(\\sum_{i=1}^{d} x_{i} y_{i}\\right) \\leq \\sum_{i=2}^{d}(1+(d-i+2) \\varepsilon) x_{i} y_{i}+(1+d \\varepsilon) x_{1} y_{1} \\leq \\sum_{i=1}^{d}(1+d \\varepsilon) x_{i} y_{i}} \\\\ {\\sum_{i=1}^{d}(1-d \\varepsilon) x_{i} y_{i} \\leq \\sum_{i=2}^{d}(1-(d-i+2) \\varepsilon) x_{i} y_{i}+(1-d \\varepsilon) x_{1} y_{1} \\leq f l\\left(\\sum_{i=1}^{d} x_{i} y_{i}\\right)}\\end{array}\n",
    " $$\n",
    " 因此\n",
    " $$ \n",
    "f 1\\left(\\sum_{i=1}^{d} x_{i} y_{i}\\right)=\\sum_{i=1}^{d} x_{i} y_{i}\\left(1+\\overline{\\delta}_{i}\\right),\\left|\\overline{\\delta}_{i}\\right| \\leqslant d \\epsilon\n",
    " $$\n",
    " 下证$|f l(A \\cdot B)-A \\cdot B| \\leq n \\cdot \\varepsilon \\cdot|A| \\cdot|B|$。\n",
    " $$ \n",
    "A \\cdot B=\\left[ \\begin{array}{ccc}{\\sum_{j=1}^{n} a_{1 j} b_{j 1}} & {\\cdots} & {\\sum_{j=1}^{n} a_{1 j} b_{j p}} \\\\ {\\sum_{j=1}^{n} a_{2 j} b_{j 1}} & {\\cdots} & {\\sum_{j=1}^{n} a_{2 j} b_{j p}} \\\\ {\\vdots} & {\\ddots} & {\\vdots} \\\\ {\\sum_{j=1}^{n} a_{m j} b_{j 1}} & {\\cdots} & {\\sum_{j=1}^{n} a_{m j} b_{j p} ]_{m \\times p}}\\end{array}\\right]\n",
    " $$\n",
    " 根据以上结论我们有\n",
    " $$ \n",
    "\\left|f 1\\left(c_{i j}\\right)-c_{i j}\\right|=\\left|\\sum_{k=1}^{n} A(i, k) B(k, j) \\delta_{k}\\right| \\leqslant n \\epsilon \\sum_{k=1}^{n}|A(i, k)||B(k, j)|=n \\epsilon(|A||B|)(i, j)\n",
    " $$\n",
    " 命题得证\n",
    " ### 问题1.11\n",
    " 证明：利用向前回代求解的公式，并根据上题结论，我们有\n",
    " $$ \n",
    "x_{i}=\\frac{b_{i}-\\sum_{k=1}^{i-1} a_{i k} x_{k}\\left(1+\\delta_{k}\\right)}{a_{i i}}\\left(1+\\widehat{\\delta}_{j}\\right)\\left(1+\\overline{\\delta}_{i}\\right), \\quad\\left|\\delta_{k}\\right| \\leq(i-1) \\varepsilon,\\left|\\widehat{\\delta}_{j}\\right| \\leq \\varepsilon,\\left|\\overline{\\delta}_{i}\\right| \\leq \\varepsilon\n",
    " $$\n",
    " 因为$1 /\\left(1+\\widehat{\\delta}_{i}\\right)\\left(1+\\overline{\\delta}_{i}\\right)=1+\\delta_{i}$，其中$\\left|\\delta_{k}\\right| \\leq 2 \\varepsilon$。所以可以退出\n",
    " $$ \n",
    "b_{i}=\\sum_{k=1}^{i} a_{i k} x_{k}\\left(1+\\delta_{i k}\\right), \\quad\\left|\\delta_{i k}\\right| \\leq \\max \\{2 \\varepsilon,(i-1) \\varepsilon\\}\n",
    " $$\n",
    " 因此可以表示$(\\delta L)_{i j}=a_{i j} \\delta_{i j}$。显然$(L+\\delta L) \\widehat{x}=b,\\left|\\delta l_{i j}\\right| \\leq n \\varepsilon\\left|l_{i j}\\right|$得证。"
   ]
  }
 ],
 "metadata": {
  "kernelspec": {
   "display_name": "Python 3",
   "language": "python",
   "name": "python3"
  },
  "language_info": {
   "codemirror_mode": {
    "name": "ipython",
    "version": 3
   },
   "file_extension": ".py",
   "mimetype": "text/x-python",
   "name": "python",
   "nbconvert_exporter": "python",
   "pygments_lexer": "ipython3",
   "version": "3.6.7"
  }
 },
 "nbformat": 4,
 "nbformat_minor": 2
}
