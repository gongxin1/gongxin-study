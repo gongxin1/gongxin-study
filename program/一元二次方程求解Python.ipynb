{
 "cells": [
  {
   "cell_type": "code",
   "execution_count": 1,
   "metadata": {},
   "outputs": [
    {
     "name": "stdout",
     "output_type": "stream",
     "text": [
      "Please input a=1\n",
      "Please input b=2\n",
      "Please input c=3\n",
      "Wrong Number！\n"
     ]
    }
   ],
   "source": [
    "import math\n",
    "def quadratic(a,b,c):\n",
    "    p=b*b-4*a*c\n",
    "    if p>=0 and a!=0:#一元二次方程有解的条件\n",
    "        x1=(-b+math.sqrt(p))/(2*a)\n",
    "        x2=(-b-math.sqrt(p))/(2*a)\n",
    "        return x1,x2\n",
    "    elif a==0:#a=0的情况下为一元一次方程\n",
    "    \tx1=x2=-c/b\n",
    "    \treturn x1\n",
    "    else:\n",
    "        return('Wrong Number！')\n",
    " \n",
    "a=float(input('Please input a='))\n",
    "b=float(input('Please input b='))\n",
    "c=float(input('Please input c='))\n",
    "print(quadratic(a,b,c))"
   ]
  },
  {
   "cell_type": "code",
   "execution_count": 8,
   "metadata": {},
   "outputs": [],
   "source": [
    "import math\n",
    "def canshu(a,b,c):\n",
    "    q=b*b-4*a*c\n",
    "    if a!=0 and q>=0:\n",
    "        x1 =(-b+sqrt(q))/(2*a)\n",
    "        x2=(-b-sqrt(q))/(2*a)\n",
    "        return x1,x2\n",
    "    elif a==0:\n",
    "        x1=x2=-b/c\n",
    "        return x1\n",
    "    else:\n",
    "        return('无解')"
   ]
  },
  {
   "cell_type": "code",
   "execution_count": 9,
   "metadata": {},
   "outputs": [],
   "source": [
    "a=1\n",
    "b=2\n",
    "c=3"
   ]
  },
  {
   "cell_type": "code",
   "execution_count": 10,
   "metadata": {},
   "outputs": [
    {
     "name": "stdout",
     "output_type": "stream",
     "text": [
      "无解\n"
     ]
    }
   ],
   "source": [
    "print(canshu(a,b,c))"
   ]
  },
  {
   "cell_type": "code",
   "execution_count": 6,
   "metadata": {},
   "outputs": [
    {
     "name": "stdout",
     "output_type": "stream",
     "text": [
      "请输入a=2\n",
      "请输入b=3\n",
      "请输入c=4\n",
      "无解\n"
     ]
    }
   ],
   "source": [
    "import math\n",
    "def canshu(a,b,c):\n",
    "    q=b*b-4*a*c\n",
    "    if a!=0 and q>=0:\n",
    "        x1=(-b+sqrt(q))/(2*a)\n",
    "        x2=(-b-sqrt(q))/(2*a)\n",
    "        return x1,x2\n",
    "    elif a==0:\n",
    "        x1=x2=-b/c\n",
    "        return x1\n",
    "    else:\n",
    "        return('无解')\n",
    "a=float(input('请输入a='))\n",
    "b=float(input('请输入b='))\n",
    "c=float(input('请输入c='))\n",
    "print(canshu(a,b,c))"
   ]
  },
  {
   "cell_type": "markdown",
   "metadata": {},
   "source": []
  }
 ],
 "metadata": {
  "kernelspec": {
   "display_name": "Python 3",
   "language": "python",
   "name": "python3"
  },
  "language_info": {
   "codemirror_mode": {
    "name": "ipython",
    "version": 3
   },
   "file_extension": ".py",
   "mimetype": "text/x-python",
   "name": "python",
   "nbconvert_exporter": "python",
   "pygments_lexer": "ipython3",
   "version": "3.6.6"
  }
 },
 "nbformat": 4,
 "nbformat_minor": 2
}
