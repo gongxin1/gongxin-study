{
 "cells": [
  {
   "cell_type": "markdown",
   "metadata": {},
   "source": [
    "## 一维有限差分解poisson"
   ]
  },
  {
   "cell_type": "code",
   "execution_count": 2,
   "metadata": {},
   "outputs": [
    {
     "name": "stdout",
     "output_type": "stream",
     "text": [
      "未经边界处理的左端矩阵A:\n",
      " [[ 50. -25.   0.   0.   0.   0.]\n",
      " [-25.  50. -25.   0.   0.   0.]\n",
      " [  0. -25.  50. -25.   0.   0.]\n",
      " [  0.   0. -25.  50. -25.   0.]\n",
      " [  0.   0.   0. -25.  50. -25.]\n",
      " [  0.   0.   0.   0. -25.  50.]]\n",
      "未经边界处理的右端向量b:\n",
      " [ 9.8696044   7.98467769  3.04987549 -3.04987549 -7.98467769 -9.8696044 ]\n",
      "x: [ 1.  0.  0.  0.  0. -1.]\n",
      "经过边界处理的b: [-40.1303956   32.98467769   3.04987549  -3.04987549 -32.98467769\n",
      "  40.1303956 ]\n",
      "经过边界处理的A\n",
      ": [[  1.   0.   0.   0.   0.   0.]\n",
      " [  0.  50. -25.   0.   0.   0.]\n",
      " [  0. -25.  50. -25.   0.   0.]\n",
      " [  0.   0. -25.  50. -25.   0.]\n",
      " [  0.   0.   0. -25.  50.   0.]\n",
      " [  0.   0.   0.   0.   0.   1.]]\n",
      "经过边界处理的b\n",
      ": [  1.          32.98467769   3.04987549  -3.04987549 -32.98467769  -1.        ]\n",
      "误差为：\n",
      " 0.00701427404435\n"
     ]
    },
    {
     "data": {
      "image/png": "[encoded data removed]",
      "text/plain": [
       "<matplotlib.figure.Figure at 0x7fd881234eb8>"
      ]
     },
     "metadata": {},
     "output_type": "display_data"
    }
   ],
   "source": [
    "import numpy as np\n",
    "import matplotlib.pyplot as plt\n",
    "from scipy.sparse import spdiags\n",
    "from scipy.sparse.linalg import spsolve\n",
    "\n",
    "from fealpy.mesh import StructureIntervalMesh\n",
    "from fealpy.pde.poisson_1d import CosData\n",
    "\n",
    "I = np.array([0, 1], dtype=np.float)\n",
    "h = 0.2\n",
    "mesh = StructureIntervalMesh(I, h)\n",
    "node = mesh.entity('node')\n",
    "\n",
    "pde = CosData()\n",
    "\n",
    "A = -mesh.laplace_operator()\n",
    "b = pde.source(node)\n",
    "print(\"未经边界处理的左端矩阵A:\\n\", A.toarray())\n",
    "print(\"未经边界处理的右端向量b:\\n\", b)\n",
    "#上述是未经过边值处理的A和b\n",
    "\n",
    "isBdNode = mesh.ds.boundary_node_flag()#将边界位置显示True\n",
    "\n",
    "NN = mesh.number_of_nodes() #节点数\n",
    "x = np.zeros((NN,), dtype=np.float)\n",
    "x[isBdNode] = pde.dirichlet(node[isBdNode]) #将边界的位置变成1和-1\n",
    "\n",
    "print(\"x:\", x)\n",
    "\n",
    "b -= A@x\n",
    "print(\"经过边界处理的b:\", b)\n",
    "\n",
    "\n",
    "bdIdx = np.zeros(NN, dtype=np.int)\n",
    "bdIdx[isBdNode] = 1\n",
    "Tbd = spdiags(bdIdx, 0, NN, NN)#边界的地方为1.其他地方为0\n",
    "T = spdiags(1-bdIdx, 0, NN, NN)\n",
    "A = T@A@T + Tbd #将边界的地方显示为1，其他地方仍是原来的A\n",
    "\n",
    "b[isBdNode] = x[isBdNode] #将经过边界处理的b的边界位置化为1\n",
    "print(\"经过边界处理的A\\n:\", A.toarray())\n",
    "print(\"经过边界处理的b\\n:\", b)\n",
    "\n",
    "x = spsolve(A, b)\n",
    "\n",
    "print(\"误差为：\\n\",np.max(np.abs(x - pde.solution(node))))\n",
    "\n",
    "\n",
    "\n",
    "fig = plt.figure()\n",
    "axes = fig.gca()\n",
    "mesh.add_plot(axes)\n",
    "mesh.find_node(axes, showindex=True)\n",
    "plt.show()"
   ]
  },
  {
   "cell_type": "markdown",
   "metadata": {},
   "source": [
    "## 二维有限差分解poisson"
   ]
  },
  {
   "cell_type": "code",
   "execution_count": 9,
   "metadata": {},
   "outputs": [
    {
     "name": "stdout",
     "output_type": "stream",
     "text": [
      "未经边界处理的左端矩阵A:\n",
      " [[-16.   4.   0.   4.   0.   0.   0.   0.   0.]\n",
      " [  4. -16.   4.   0.   4.   0.   0.   0.   0.]\n",
      " [  0.   4. -16.   0.   0.   4.   0.   0.   0.]\n",
      " [  4.   0.   0. -16.   4.   0.   4.   0.   0.]\n",
      " [  0.   4.   0.   4. -16.   4.   0.   4.   0.]\n",
      " [  0.   0.   4.   0.   4. -16.   0.   0.   4.]\n",
      " [  0.   0.   0.   4.   0.   0. -16.   4.   0.]\n",
      " [  0.   0.   0.   0.   4.   0.   4. -16.   4.]\n",
      " [  0.   0.   0.   0.   0.   4.   0.   4. -16.]]\n",
      "未经边界处理的右端向量b:\n",
      " [  1.97392088e+01   1.20867794e-15  -1.97392088e+01   1.20867794e-15\n",
      "   7.40101788e-32  -1.20867794e-15  -1.97392088e+01  -1.20867794e-15\n",
      "   1.97392088e+01]\n",
      "x: [  1.00000000e+00   6.12323400e-17  -1.00000000e+00   6.12323400e-17\n",
      "   0.00000000e+00  -6.12323400e-17  -1.00000000e+00  -6.12323400e-17\n",
      "   1.00000000e+00]\n",
      "经过边界处理的b: [  3.57392088e+01   2.09685636e-15  -3.57392088e+01   2.09685636e-15\n",
      "   7.40101788e-32  -2.09685636e-15  -3.57392088e+01  -2.09685636e-15\n",
      "   3.57392088e+01]\n",
      "经过边界处理的A\n",
      ": [[  1.   0.   0.   0.   0.   0.   0.   0.   0.]\n",
      " [  0.   1.   0.   0.   0.   0.   0.   0.   0.]\n",
      " [  0.   0.   1.   0.   0.   0.   0.   0.   0.]\n",
      " [  0.   0.   0.   1.   0.   0.   0.   0.   0.]\n",
      " [  0.   0.   0.   0. -16.   0.   0.   0.   0.]\n",
      " [  0.   0.   0.   0.   0.   1.   0.   0.   0.]\n",
      " [  0.   0.   0.   0.   0.   0.   1.   0.   0.]\n",
      " [  0.   0.   0.   0.   0.   0.   0.   1.   0.]\n",
      " [  0.   0.   0.   0.   0.   0.   0.   0.   1.]]\n",
      "经过边界处理的b\n",
      ": [  1.00000000e+00   6.12323400e-17  -1.00000000e+00   6.12323400e-17\n",
      "   7.40101788e-32  -6.12323400e-17  -1.00000000e+00  -6.12323400e-17\n",
      "   1.00000000e+00]\n",
      "误差为：\n",
      " 8.37503562901e-33\n"
     ]
    },
    {
     "data": {
      "image/png": "[encoded data removed]",
      "text/plain": [
       "<matplotlib.figure.Figure at 0x7fd17dfafbe0>"
      ]
     },
     "metadata": {},
     "output_type": "display_data"
    }
   ],
   "source": [
    "import numpy as np\n",
    "import matplotlib.pyplot as plt\n",
    "from scipy.sparse import spdiags\n",
    "from scipy.sparse.linalg import spsolve\n",
    "from fealpy.mesh.StructureQuadMesh import StructureQuadMesh\n",
    "from fealpy.pde.poisson_2d import CosCosData\n",
    "\n",
    "L=1\n",
    "box = [0, L, 0, L]\n",
    "qmesh = StructureQuadMesh(box, nx=2, ny=2)\n",
    "node = qmesh.entity('node')\n",
    "\n",
    "pde = CosCosData()\n",
    "\n",
    "A = -qmesh.laplace_operator()\n",
    "b = pde.source(node)\n",
    "print(\"未经边界处理的左端矩阵A:\\n\", A.toarray())\n",
    "print(\"未经边界处理的右端向量b:\\n\", b)\n",
    "#上述是未经过边值处理的A和b\n",
    "\n",
    "isBdNode = qmesh.ds.boundary_node_flag()#将边界位置显示True\n",
    "\n",
    "NN = qmesh.number_of_nodes() #节点数\n",
    "x = np.zeros((NN,), dtype=np.float)\n",
    "x[isBdNode] = pde.dirichlet(node[isBdNode]) #将边界的位置变成1和-1\n",
    "\n",
    "print(\"x:\", x)\n",
    "\n",
    "b -= A@x\n",
    "print(\"经过边界处理的b:\", b)\n",
    "\n",
    "\n",
    "bdIdx = np.zeros(NN, dtype=np.int)\n",
    "bdIdx[isBdNode] = 1\n",
    "Tbd = spdiags(bdIdx, 0, NN, NN)#边界的地方为1.其他地方为0\n",
    "T = spdiags(1-bdIdx, 0, NN, NN)\n",
    "A = T@A@T + Tbd #将边界的地方显示为1，其他地方仍是原来的A\n",
    "\n",
    "b[isBdNode] = x[isBdNode] #将经过边界处理的b的边界位置化为1\n",
    "print(\"经过边界处理的A\\n:\", A.toarray())\n",
    "print(\"经过边界处理的b\\n:\", b)\n",
    "\n",
    "x = spsolve(A, b)\n",
    "\n",
    "print(\"误差为：\\n\",np.max(np.abs(x - pde.solution(node))))\n",
    "\n",
    "\n",
    "\n",
    "fig = plt.figure()\n",
    "axes = fig.gca()\n",
    "qmesh.add_plot(axes)\n",
    "qmesh.find_node(axes, showindex=True)\n",
    "plt.show()"
   ]
  },
  {
   "cell_type": "markdown",
   "metadata": {},
   "source": [
    "## 未考虑边值条件的poisson问题\n",
    "$$\n",
    "-\\Delta u=f(x)\\\\\n",
    "f(x)=2\\pi ^2 \\sin(\\pi x)\n",
    "$$\n",
    "其中真解$u(x)=\\sin(\\pi x)$"
   ]
  },
  {
   "cell_type": "code",
   "execution_count": 2,
   "metadata": {},
   "outputs": [
    {
     "name": "stdout",
     "output_type": "stream",
     "text": [
      "[[ 200. -100.    0.    0.    0.    0.    0.    0.    0.    0.    0.]\n",
      " [-100.  200. -100.    0.    0.    0.    0.    0.    0.    0.    0.]\n",
      " [   0. -100.  200. -100.    0.    0.    0.    0.    0.    0.    0.]\n",
      " [   0.    0. -100.  200. -100.    0.    0.    0.    0.    0.    0.]\n",
      " [   0.    0.    0. -100.  200. -100.    0.    0.    0.    0.    0.]\n",
      " [   0.    0.    0.    0. -100.  200. -100.    0.    0.    0.    0.]\n",
      " [   0.    0.    0.    0.    0. -100.  200. -100.    0.    0.    0.]\n",
      " [   0.    0.    0.    0.    0.    0. -100.  200. -100.    0.    0.]\n",
      " [   0.    0.    0.    0.    0.    0.    0. -100.  200. -100.    0.]\n",
      " [   0.    0.    0.    0.    0.    0.    0.    0. -100.  200. -100.]\n",
      " [   0.    0.    0.    0.    0.    0.    0.    0.    0. -100.  200.]]\n",
      "误差为 0.00826541696623\n"
     ]
    },
    {
     "data": {
      "image/png": "[encoded data removed]",
      "text/plain": [
       "<matplotlib.figure.Figure at 0x7f8990316b70>"
      ]
     },
     "metadata": {},
     "output_type": "display_data"
    },
    {
     "data": {
      "image/png": "[encoded data removed]",
      "text/plain": [
       "<matplotlib.figure.Figure at 0x7f896845f4e0>"
      ]
     },
     "metadata": {},
     "output_type": "display_data"
    }
   ],
   "source": [
    "import numpy as np\n",
    "from fealpy.mesh import StructureIntervalMesh\n",
    "import matplotlib.pyplot as plt\n",
    "from scipy.sparse.linalg import spsolve\n",
    "from scipy.sparse import csr_matrix\n",
    "\n",
    "def u(x):#真解\n",
    "    return np.sin(np.pi*x)\n",
    "\n",
    "def f(x):#右端函数\n",
    "    return np.pi**2*np.sin(np.pi*x) \n",
    "\n",
    "smesh=StructureIntervalMesh([0,1],0.1)\n",
    "NN = smesh.number_of_nodes()#节点个数\n",
    "node = smesh.entity('node')\n",
    "\n",
    "A = -smesh.laplace_operator().tocsr()\n",
    "#b是右端向量\n",
    "b = f(node)\n",
    "\n",
    "#这里因为没有考虑边值条件，所以我们去掉边值条件，只考虑内部节点\n",
    "uh = np.zeros(NN, dtype=np.float)\n",
    "uh[1:-1] = spsolve(A[1:-1, :][:, 1:-1], b[1:-1])\n",
    "\n",
    "\n",
    "#下面为真解与数值解的误差\n",
    "error = np.max(np.abs(uh - u(node)))\n",
    "\n",
    "plt.plot(node, u(node))\n",
    "plt.plot(node,uh)\n",
    "\n",
    "print(A.toarray())\n",
    "print(\"误差为\",error)\n",
    "\n",
    "\n",
    "fig = plt.figure()\n",
    "axes = fig.gca()\n",
    "smesh.add_plot(axes)\n",
    "smesh.find_node(axes, showindex=True)\n",
    "plt.show()"
   ]
  },
  {
   "cell_type": "code",
   "execution_count": null,
   "metadata": {},
   "outputs": [],
   "source": [
    "import numpy as np\n",
    "from fealpy.mesh import StructureIntervalMesh\n",
    "import matplotlib.pyplot as plt\n",
    "from scipy.sparse.linalg import spsolve\n",
    "from scipy.sparse import csr_matrix\n",
    "\n",
    "def u(x):#真解\n",
    "    return np.sin(np.pi*x)\n",
    "\n",
    "def f(x):#右端函数\n",
    "    return np.pi**2*np.sin(np.pi*x) \n",
    "\n",
    "smesh=StructureIntervalMesh([0,1],0.1)\n",
    "NN = smesh.number_of_nodes()#节点个数\n",
    "node = smesh.entity('node')\n",
    "\n",
    "A = -smesh.laplace_operator().tocsr()\n",
    "#b是右端向量\n",
    "b = f(node)\n",
    "\n",
    "#这里因为没有考虑边值条件，所以我们去掉边值条件，只考虑内部节点\n",
    "uh = np.zeros(NN, dtype=np.float)\n",
    "uh[1:-1] = spsolve(A[1:-1, :][:, 1:-1], b[1:-1])\n",
    "\n",
    "\n",
    "#下面为真解与数值解的误差\n",
    "error = np.max(np.abs(uh - u(node)))\n",
    "\n",
    "plt.plot(node, u(node))\n",
    "plt.plot(node,uh)\n",
    "\n",
    "print(A.toarray())\n",
    "print(\"误差为\",error)\n",
    "\n",
    "\n",
    "fig = plt.figure()\n",
    "axes = fig.gca()\n",
    "smesh.add_plot(axes)\n",
    "smesh.find_node(axes, showindex=True)\n",
    "plt.show()"
   ]
  }
 ],
 "metadata": {
  "kernelspec": {
   "display_name": "Python 3",
   "language": "python",
   "name": "python3"
  },
  "language_info": {
   "codemirror_mode": {
    "name": "ipython",
    "version": 3
   },
   "file_extension": ".py",
   "mimetype": "text/x-python",
   "name": "python",
   "nbconvert_exporter": "python",
   "pygments_lexer": "ipython3",
   "version": "3.6.7"
  }
 },
 "nbformat": 4,
 "nbformat_minor": 2
}
