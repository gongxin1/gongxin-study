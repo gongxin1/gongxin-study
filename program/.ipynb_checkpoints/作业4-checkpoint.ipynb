{
 "cells": [
  {
   "cell_type": "markdown",
   "metadata": {},
   "source": [
    "### <center>Python实验报告</center>\n",
    "### <center>姓名：龚欣     $~~~~~~~~~$     学号：201821511222  </center>\n",
    "### 实验题目：用列选主元初等行变换求矩阵的逆\n",
    "\n",
    "### 实现算法：\n",
    "\n",
    "1.选列主元，进行行变换，将绝对值最大值放在对角线位置，同时单位矩阵E做相同变换\n",
    "\n",
    "2.进行初等行变换，将A化为上三角矩阵，同时E矩阵做相同变换\n",
    "\n",
    "3.再从右下角往上将A化为对角矩阵，同时E矩阵也做相同变换 \n",
    "\n",
    "4.将对角线化成1，即将A化为单位阵，同时E矩阵做相同变换，此时的E就是我们要求的A的逆\n",
    "### 程序代码："
   ]
  },
  {
   "cell_type": "code",
   "execution_count": 1,
   "metadata": {},
   "outputs": [],
   "source": [
    "import numpy as np\n",
    "def inver(A):\n",
    "    \n",
    "    n = len(A)\n",
    "    E=np.eye(n,n)\n",
    "    \n",
    "    for i in range(n - 1):\n",
    "        m = np.argmax(np.abs(A[i:, i])) + i              #找出每一列绝对值最大值的行指标\n",
    "        if A[m, i] == 0:                                           #判断A是否奇异\n",
    "            raise ValueError(\"matrix is singular.\")\n",
    "        else:\n",
    "            if m != i:                                             \n",
    "                A[[i, m], :] = A[[m, i], :]\n",
    "                E[[i, m], :] = E[[m, i], :]\n",
    "            \n",
    "    #将A化为上三角矩阵     \n",
    "            for j in range(i+1,n):  \n",
    "                E[j,:]-=(A[j,i]/A[i,i])*E[i,:]        \n",
    "                A[j,:]-=(A[j,i]/A[i,i])*A[i,:]            \n",
    "                \n",
    "    #将A化为对角矩阵           \n",
    "    for q in range(n-1,0,-1): \n",
    "        for o in range(n-1,q-1,-1):\n",
    "            E[q-1,:]-=(A[q-1,o]/A[o,o])*E[o,:]\n",
    "            A[q-1,:]-=(A[q-1,o]/A[o,o])*A[o,:]\n",
    "\n",
    "    #将A化为单位阵\n",
    "    for p in range(n):\n",
    "        E[p,:]=(1/A[p,p])*E[p,:]\n",
    "        A[p,:]=(1/A[p,p])*A[p,:]\n",
    "    return E"
   ]
  },
  {
   "cell_type": "code",
   "execution_count": 2,
   "metadata": {},
   "outputs": [
    {
     "data": {
      "text/plain": [
       "array([[ 1.,  2.,  3.,  3.],\n",
       "       [ 5.,  5.,  6.,  2.],\n",
       "       [ 6.,  8.,  9.,  5.],\n",
       "       [ 2.,  3.,  4.,  5.]])"
      ]
     },
     "execution_count": 2,
     "metadata": {},
     "output_type": "execute_result"
    }
   ],
   "source": [
    "A=np.array([[1, 2, 3,3],\n",
    "       [5, 5, 6,2],\n",
    "       [6, 8, 9,5],\n",
    "       [2,3,4,5]],np.float64)\n",
    "A"
   ]
  },
  {
   "cell_type": "code",
   "execution_count": 3,
   "metadata": {},
   "outputs": [
    {
     "data": {
      "text/plain": [
       "array([[-0.88235294,  0.58823529, -0.41176471,  0.70588235],\n",
       "       [-1.        , -1.        ,  1.        ,  0.        ],\n",
       "       [ 1.70588235,  0.52941176, -0.47058824, -0.76470588],\n",
       "       [-0.41176471, -0.05882353, -0.05882353,  0.52941176]])"
      ]
     },
     "execution_count": 3,
     "metadata": {},
     "output_type": "execute_result"
    }
   ],
   "source": [
    "B=np.linalg.inv(A)#python自带求矩阵的逆\n",
    "B"
   ]
  },
  {
   "cell_type": "code",
   "execution_count": 4,
   "metadata": {},
   "outputs": [
    {
     "data": {
      "text/plain": [
       "array([[-0.88235294,  0.58823529, -0.41176471,  0.70588235],\n",
       "       [-1.        , -1.        ,  1.        , -0.        ],\n",
       "       [ 1.70588235,  0.52941176, -0.47058824, -0.76470588],\n",
       "       [-0.41176471, -0.05882353, -0.05882353,  0.52941176]])"
      ]
     },
     "execution_count": 4,
     "metadata": {},
     "output_type": "execute_result"
    }
   ],
   "source": [
    "C=inver(A)\n",
    "C"
   ]
  },
  {
   "cell_type": "code",
   "execution_count": 5,
   "metadata": {},
   "outputs": [
    {
     "data": {
      "text/plain": [
       "True"
      ]
     },
     "execution_count": 5,
     "metadata": {},
     "output_type": "execute_result"
    }
   ],
   "source": [
    "np.allclose(B,C)#判断矩阵B和C是否相近"
   ]
  },
  {
   "cell_type": "code",
   "execution_count": 9,
   "metadata": {},
   "outputs": [
    {
     "data": {
      "text/plain": [
       "6.106226635438361e-16"
      ]
     },
     "execution_count": 9,
     "metadata": {},
     "output_type": "execute_result"
    }
   ],
   "source": [
    "np.max(np.abs(B-C))"
   ]
  },
  {
   "cell_type": "markdown",
   "metadata": {},
   "source": [
    "### 实验结果：\n",
    "我们通过行变换求的逆与我们python自带求逆的误差非常小，因此此算法比较精确。"
   ]
  },
  {
   "cell_type": "code",
   "execution_count": null,
   "metadata": {},
   "outputs": [],
   "source": []
  }
 ],
 "metadata": {
  "kernelspec": {
   "display_name": "Python 3",
   "language": "python",
   "name": "python3"
  },
  "language_info": {
   "codemirror_mode": {
    "name": "ipython",
    "version": 3
   },
   "file_extension": ".py",
   "mimetype": "text/x-python",
   "name": "python",
   "nbconvert_exporter": "python",
   "pygments_lexer": "ipython3",
   "version": "3.6.7"
  }
 },
 "nbformat": 4,
 "nbformat_minor": 2
}
