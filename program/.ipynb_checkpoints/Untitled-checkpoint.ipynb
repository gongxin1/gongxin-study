{
 "cells": [
  {
   "cell_type": "code",
   "execution_count": 1,
   "metadata": {},
   "outputs": [],
   "source": [
    "def algorithm_2_2(A):\n",
    "    n = len(A)\n",
    "    P, L, U = np.eye(n), np.zeros((n, n)), np.zeros((n, n))\n",
    "    for i in range(n - 1):\n",
    "        m = np.argmax(np.abs(A[i:, i])) + i\n",
    "        if A[m, i] == 0:\n",
    "            raise ValueError(\"matrix is singular.\")\n",
    "        else:\n",
    "            if m != i:\n",
    "                A[[i, m], :] = A[[m, i], :]\n",
    "                L[[i, m], :] = L[[m, i], :]\n",
    "                P[[i, m], :] = P[[m, i], :]\n",
    "            for j in range(i + 1, n):\n",
    "                L[j, i] = A[j, i] / A[i, i]\n",
    "\n",
    "            for j in range(i, n):\n",
    "                U[i, j] = A[i, j]\n",
    "\n",
    "            for j in range(i + 1, n):\n",
    "                for k in range(i + 1, n):\n",
    "                    A[j, k] -= L[j, i] * U[i, k]\n",
    "\n",
    "    P = P.T\n",
    "    L += np.eye(n)\n",
    "    U[-1, -1] = A[-1, -1]\n",
    "    return A, P, L, U\n"
   ]
  },
  {
   "cell_type": "code",
   "execution_count": 2,
   "metadata": {},
   "outputs": [],
   "source": [
    "def algorithm_2_3(A):\n",
    "    n = len(A)\n",
    "    P = np.eye(n)\n",
    "    for i in range(n - 1):\n",
    "        m = np.argmax(np.abs(A[i:, i])) + i\n",
    "        if A[m, i] == 0:\n",
    "            raise ValueError(\"matrix is singular.\")\n",
    "        else:\n",
    "            if m != i:\n",
    "                A[[i, m], :] = A[[m, i], :]\n",
    "                P[[i, m], :] = P[[m, i], :]\n",
    "\n",
    "            for j in range(i + 1, n):\n",
    "                A[j, i] = A[j, i] / A[i, i]\n",
    "\n",
    "            for j in range(i + 1, n):\n",
    "                for k in range(i + 1, n):\n",
    "                    A[j, k] -= A[j, i] * A[i, k]\n",
    "\n",
    "    P = P.T\n",
    "    L = np.tril(A, -1) + np.eye(n)\n",
    "    U = np.triu(A, 0)\n",
    "    return A, P, L, U\n"
   ]
  },
  {
   "cell_type": "code",
   "execution_count": null,
   "metadata": {},
   "outputs": [],
   "source": [
    "def algorithm_2_4(A):\n",
    "    n = len(A)\n",
    "    P = np.eye(n)\n",
    "\n",
    "    for i in range(n - 1):\n",
    "        m = np.argmax(np.abs(A[i:, i])) + i\n",
    "\n",
    "        if A[m, i] == 0:\n",
    "            raise ValueError(\"matrix is singular.\")\n",
    "        else:\n",
    "            if m != i:\n",
    "                A[[i, m], :] = A[[m, i], :]\n",
    "                P[[i, m], :] = P[[m, i], :]\n",
    "\n",
    "            A[(i + 1):, i] /= A[i, i]\n",
    "            A[(i + 1):, (i + 1):] -= A[(i + 1):, i].reshape(-1, 1)*A[i, (i + 1):]\n",
    "\n",
    "    P = P.T\n",
    "    L = np.tril(A, -1) + np.eye(n)\n",
    "    U = np.triu(A, 0)\n",
    "    return A, P, L, U\n"
   ]
  }
 ],
 "metadata": {
  "kernelspec": {
   "display_name": "Python 3",
   "language": "python",
   "name": "python3"
  },
  "language_info": {
   "codemirror_mode": {
    "name": "ipython",
    "version": 3
   },
   "file_extension": ".py",
   "mimetype": "text/x-python",
   "name": "python",
   "nbconvert_exporter": "python",
   "pygments_lexer": "ipython3",
   "version": "3.6.7"
  }
 },
 "nbformat": 4,
 "nbformat_minor": 2
}
