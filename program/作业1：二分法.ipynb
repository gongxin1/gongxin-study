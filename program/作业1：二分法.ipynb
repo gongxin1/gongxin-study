{
 "cells": [
  {
   "cell_type": "code",
   "execution_count": 30,
   "metadata": {},
   "outputs": [
    {
     "name": "stdout",
     "output_type": "stream",
     "text": [
      "1.949999999969441\n",
      "[1.95, 1.425, 1.6875, 1.81875, 1.884375, 1.9171874999999998, 1.93359375, 1.941796875, 1.9458984375, 1.9479492187499998, 1.948974609375, 1.9494873046875, 1.94974365234375, 1.9498718261718748, 1.9499359130859375, 1.9499679565429688, 1.9499839782714843, 1.949991989135742, 1.949995994567871, 1.9499979972839356, 1.9499989986419677, 1.9499994993209837, 1.949999749660492, 1.949999874830246, 1.949999937415123, 1.9499999687075613, 1.9499999843537807, 1.9499999921768905, 1.949999996088445, 1.9499999980442224, 1.9499999990221113, 1.9499999995110557, 1.9499999997555277, 1.9499999998777637, 1.949999999938882, 1.949999999969441]\n",
      "36\n"
     ]
    }
   ],
   "source": [
    "import numpy as np\n",
    "def f(z):\n",
    "    return (z-2)**9\n",
    "\n",
    "c = [ ]\n",
    "\n",
    "def erfen(a,b,e):#e为精度\n",
    "    x=(a+b)/2.0\n",
    "    c.append(x)\n",
    "    if abs(b-a)<e:\n",
    "        return x\n",
    "    elif f(a)*f(b)<0:\n",
    "        return erfen(a,x,e)\n",
    "    else:\n",
    "        return erfen(x,b,e)\n",
    "    \n",
    "\n",
    "a=0.9\n",
    "b=3.0\n",
    "e=1e-10\n",
    "print(erfen(a,b,e))\n",
    "print(c)#将每次x的值打印出来\n",
    "print(len(c))#输出迭代次数"
   ]
  }
 ],
 "metadata": {
  "kernelspec": {
   "display_name": "Python 3",
   "language": "python",
   "name": "python3"
  },
  "language_info": {
   "codemirror_mode": {
    "name": "ipython",
    "version": 3
   },
   "file_extension": ".py",
   "mimetype": "text/x-python",
   "name": "python",
   "nbconvert_exporter": "python",
   "pygments_lexer": "ipython3",
   "version": "3.6.7"
  }
 },
 "nbformat": 4,
 "nbformat_minor": 2
}
