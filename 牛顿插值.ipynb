{
 "cells": [
  {
   "cell_type": "markdown",
   "metadata": {},
   "source": [
    "# 牛顿插值多项式\n",
    "### 定义 称$f[x_0,x_k]=\\frac{f(x_k)-f(x_0)}{x_k-x_0}$为函数$f(x)$关于点$x_0,x_k$的一阶均差。$f[x_0，x_1,x_k]=\\frac{f[x_0,x_k]-f[x_0,x_1]}{x_k-x_1}$为$f(x)$的二阶均差。一般地，称$f[x_0,x_1,...,x_k]=\\frac{f[x_0,...,x_k-2,x_k]-f[x_0,x_1,...,x_{k-1}]\n",
    "}{x_k-x_{k-1}}$。\n",
    "### 根据均差的基本性质$k$阶均差可以表示为函数值$f(x_0),f(x_1),...,f(x_k)$的线性组合，即$f[x_0，x_1,...,x_k]=\\sum_{j=0\n",
    "}^k \\frac{f(x_j)}{(x_j-x_0)...(x_j-x_{j-1})(x_j-x_{j+1})...(x_j-x_k)}$\n",
    "### 根据均差的定义$n$次插值多项式可表示为$P_n(x)=f(x_0)+f[x_0,x_1](x-x_0)+f[x_0,x_1,x_2](x-x_0)(x-x_1)+...+f[x_0,x_1,...,x_n](x-x_0)...(x-x_{n-1})$\n"
   ]
  },
  {
   "cell_type": "code",
   "execution_count": 69,
   "metadata": {},
   "outputs": [],
   "source": [
    "import numpy as np\n",
    "x=np.array([0.40,0.55,0.65,0.80,0.90,1.05])\n",
    "y=np.array([0.41075,0.57815,0.69675,0.88811,1.02652,1.25382])\n",
    "z=np.array([0.596])"
   ]
  },
  {
   "cell_type": "code",
   "execution_count": null,
   "metadata": {},
   "outputs": [],
   "source": [
    "# 递归求差商\n",
    "def get_diff_quo(xi, fi):\n",
    "    if len(xi) > 2 and len(fi) > 2:\n",
    "        return (get_diff_quo(xi[:len(xi) - 1], fi[:len(fi) - 1]) - get_diff_quo(xi[1:len(xi)], fi[1:len(fi)])) / float(\n",
    "            xi[0] - xi[-1])\n",
    "    return (fi[0] - fi[1]) / float(xi[0] - xi[1])\n",
    "\n",
    "\n",
    "# 求w，使用闭包函数\n",
    "def get_w(i, xi):\n",
    "    def wi(x):\n",
    "        result = 1.0\n",
    "        for j in range(i):\n",
    "            result *= (x - xi[j])\n",
    "        return result\n",
    "\n",
    "    return wi\n",
    "\n",
    "\n",
    "# 做插值\n",
    "def get_Newton(xi, fi):\n",
    "    def Newton(x):\n",
    "        result = fi[0]\n",
    "        for i in range(2, len(xi)):\n",
    "            result += (get_diff_quo(xi[:i], fi[:i]) * get_w(i - 1, xi)(x))\n",
    "        return result\n",
    "\n",
    "    return Newton\n",
    "\n",
    "\n",
    "# 已知结点\n",
    "xn = [i for i in range(-50, 50, 10)]\n",
    "fn = [i ** 2 for i in xn]\n",
    "\n",
    "# 插值函数\n",
    "Nx = get_Newton(xn, fn)\n",
    "\n",
    "# 测试用例\n",
    "tmp_x = [i for i in range(-50, 51)]\n",
    "tmp_y = [Nx(i) for i in tmp_x]\n",
    "\n",
    "print(tmp_x)\n",
    "print(tmp_y)\n",
    "\n",
    "# 作图\n",
    "plt.plot(xn, fn, 'r*')\n",
    "plt.plot(tmp_x, tmp_y, 'b-')\n",
    "plt.title('Newton Interpolation')\n",
    "plt.xlabel('x')\n",
    "plt.ylabel('y')\n",
    "plt.show()\n",
    "\n"
   ]
  },
  {
   "cell_type": "code",
   "execution_count": null,
   "metadata": {},
   "outputs": [],
   "source": [
    "# 递归求差商\n",
    "def get_diff_quo(xi, fi):\n",
    "    if len(xi) > 2 and len(fi) > 2:\n",
    "        return (get_diff_quo(xi[:len(xi) - 1], fi[:len(fi) - 1]) - get_diff_quo(xi[1:len(xi)], fi[1:len(fi)])) / float(\n",
    "            xi[0] - xi[-1])\n",
    "    return (fi[0] - fi[1]) / float(xi[0] - xi[1])\n"
   ]
  }
 ],
 "metadata": {
  "kernelspec": {
   "display_name": "Python 3",
   "language": "python",
   "name": "python3"
  },
  "language_info": {
   "codemirror_mode": {
    "name": "ipython",
    "version": 3
   },
   "file_extension": ".py",
   "mimetype": "text/x-python",
   "name": "python",
   "nbconvert_exporter": "python",
   "pygments_lexer": "ipython3",
   "version": "3.6.5"
  }
 },
 "nbformat": 4,
 "nbformat_minor": 2
}
