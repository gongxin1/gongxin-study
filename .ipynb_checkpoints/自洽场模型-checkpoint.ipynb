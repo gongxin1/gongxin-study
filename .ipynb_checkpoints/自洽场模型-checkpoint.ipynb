{
 "cells": [
  {
   "cell_type": "markdown",
   "metadata": {},
   "source": [
    "# <center>SCFT模型</center>\n",
    "## <center>两嵌段共聚物体系</center>\n",
    "下面是$AB$两嵌段共聚物的连续高斯链模型,该分子的总聚合度为$N$，$0\\leq s \\leq f$(蓝线)段由$A$型段组成，它的聚合度为$N_A$，$f \\leq s \\leq 1$(橙线)由$B$型段组成，它的聚合度为$N_B$。单体$A$和$B$的体积分数分别是$f$和$1-f$。单体$A$和$B$段相对应的统计段长度（Kuhn）分别是$b_A$和$b_B$，体积分段为$v_A,v_B$,且$b_A=b_B,v_A=v_B$。$\\chi N$是两单体之间的Flory-Huggins 相互作用参数。\n",
    "![image.png](./figures/111.png)\n",
    "我们考虑的是球壳中的两嵌段共聚物系统，假设系统有$n$个上述的共聚物分子，共聚物链的特征长度可以由单位长度的无量纲化的回旋半径来定义，所有的单位空间长度$R_{g}=b \\sqrt{\\frac{N}{6}}$。在不可压条件下,平均分段密度在空间上是均匀的，$v_{0}=\\frac{1}{\\rho_{0}}=\\frac{V}{n N}$，$\\rho_{0}$是系统的数密度，$V$ 为系统的体积。\n",
    "\n",
    "在平均场近似下,该系统的有效哈密顿量是\n",
    "\\begin{equation}\n",
    "H\\left[w_{+}, w_{-}\\right]=\\frac{1}{V} \\int d x\\left\\{-w_{+}(x)+\\frac{w_{-}^{2}(x)}{\\chi N}\\right\\}-\\log Q\\left[w_{+}(x), w_{-}(x)\\right]\n",
    "\\end{equation}\n",
    "其中$w_{+}(x)$和$w_{-}(x)$是对应系统的压力和对应交换化学势，其中$x$表示空间球壳中的点，压力场强化局部不可压性，而交换化学势与密度算子共轭。Q 受到来自外场 $w_{+}(x)$和$w_{-}(x)$ 的单链配分函数的控制，$dx$是体积微元。自由能函数关于场的一阶变分将推导出下面的自洽场方程\n",
    "\\begin{equation}\n",
    "\\frac{\\delta H}{\\delta w_{+}(x)}=\\rho_{0}\\left[\\phi_{A}(x)+\\phi_{B}(x)-1\\right]=0\n",
    "\\end{equation}\n",
    "\\begin{equation}\n",
    "\\frac{\\delta H}{\\delta w_{-}(x)}=\\rho_{0}\\left[\\frac{2 w_{-}(x)}{\\chi N}-\\phi_{A}(x)+\\phi_{B}(x)\\right]=0\n",
    "\\end{equation}\n",
    "其中$\\phi_{A}(x)$和$\\phi_{B}(x)$是单体 $A$ 和单体 $B$ 的密度。然后通过使用连续的高链模型,我们可以完成 SCFT 系统。\n",
    "\n",
    "在系统中,正向传播子 $q(x, s)$表示长度为 $s$ 的链在空间球壳中位置 $x$ 处概\n",
    "率权重,其中变量 $s$ 用于参数化每条共聚物链.$s = 0$ 表示单体 $A$ 的起始位置,$s = f$ 是单体 $A$ 和单体 $B$ 之间的连接点. 从柔性高斯链模型,正向传播子 q(x, s)和互补传播子$q^{\\dagger}(x, s)$满足下面修正扩散方程\n",
    "\n",
    "修正扩散方程：\n",
    "\\begin{equation}\n",
    "\\frac{\\partial}{\\partial s} q(x, s)=\\left[\\Delta_{S}-w(x, s)\\right] q(\\mathbf{x}, s)\n",
    "\\end{equation}\n",
    "\\begin{equation}\n",
    "\\frac{\\partial}{\\partial s} q^{\\dagger}(x, s)=\\left[ \\Delta_{S}-w^{\\dagger}(x, s)\\right] q(\\mathbf{x}, s)\n",
    "\\end{equation}\n",
    "$~~~~$其中的$w(x, s)$和$w^{\\dagger}(x, s)$满足\n",
    "\\begin{equation}\n",
    "w(x, s)=\\left\\{\\begin{array}{ll}{w_{+}(x)-w_{-}(x),} & {0 \\leq s \\leq f} \\\\ {w_{+}(x)+w_{-}(x),} & {f \\leq s \\leq 1}\\end{array}\\right.\n",
    "\\end{equation}\n",
    "\\begin{equation}\n",
    "w^{\\dagger}(x, s)=\\left\\{\\begin{array}{ll}{w_{+}(x)+w_{-}(x),} & {0 \\leq s \\leq 1-f} \\\\ {w_{+}(x)-w_{-}(x),} & {1-f \\leq s \\leq 1}\\end{array}\\right.\n",
    "\\end{equation}\n",
    "$~~~~$且满足初始条件：\n",
    "$$\n",
    "q(x, 0)=q^{\\dagger}(x, 0)=1\n",
    "$$\n",
    "配分函数：\n",
    "\\begin{equation}\n",
    "Q=\\frac{1}{V} \\int d x q(x, 1)=\\frac{1}{V} \\int \\mathrm{d} x q(x, s) q^{\\dagger}(u, 1-s), \\quad \\forall s \\in[0,1]\n",
    "\\end{equation}\n",
    "密度算子：\n",
    "\\begin{equation}\n",
    "\\phi_{A}(x)=\\frac{1}{Q} \\int_{0}^{f} \\mathrm{d} s q(x, s) q^{\\dagger}(x, 1-s)\n",
    "\\end{equation}\n",
    "\\begin{equation}\n",
    "\\phi_{B}(x)=\\frac{1}{Q} \\int_{f}^{1} \\mathrm{d} s q(x, s) q^{\\dagger}(x, 1-s)\n",
    "\\end{equation}\n"
   ]
  },
  {
   "cell_type": "markdown",
   "metadata": {},
   "source": [
    "## <center>数值方法</center>\n",
    "### 算法流程\n",
    "![image.png](./figures/112.png)"
   ]
  },
  {
   "cell_type": "markdown",
   "metadata": {},
   "source": [
    "## 场迭代过程：\n",
    "自洽场模型的平衡态是鞍点，有效的Hamilton 量沿着系统压力$w_{+}(x, t)$的方向上升而取得最大值，沿着交换化学势场$w_{-}(x, t)$的方向下降而取得最小值。所以我们用最速下降法对自洽场模型进行迭代，迭代格式如下\n",
    "\\begin{equation}\n",
    "\\begin{array}{l}{w_{+}^{k+1}(x)=w_{+}^{k}(x)+\\lambda_{+}\\left[\\phi_{A}^{k}(x)+\\phi_{B}^{k}(x)-1\\right]} \\\\ {w_{-}^{k+1}(x)=w_{-}^{k}(x)-\\lambda_{-}\\left[\\frac{2 w_{-}^{k}(x)}{\\chi N}-\\left[\\phi_{A}(x)-\\phi_{B}(x)\\right]\\right]}\\end{array}\n",
    "\\end{equation}\n",
    "其中$\\lambda_{+}>0, \\lambda_{-}>0$\n"
   ]
  },
  {
   "cell_type": "markdown",
   "metadata": {},
   "source": [
    "## 有限元求传播子\n",
    "### 变分形式：\n",
    "引入检验函数空间$H^1(V)$，试探函数空间$H^1(V)$，对于任意的$v \\in H^{1}(V)$，与修正的传播方程做$L^2$内积可得\n",
    "\\begin{equation}\n",
    "\\left(\\frac{\\partial}{\\partial s} q, v\\right)_{V}=-\\left(\\nabla_{S} q, \\nabla_{V}\\right)_{S}-(w q, v)_{V}\n",
    "\\end{equation}\n",
    "上述的$(\\cdot, \\cdot)_{V}$表示球壳中的$L^2$内积。原问题就转化为，求解$q\\in H^{1}(V)$，满足上述方程。\n",
    "我们考虑球壳的三棱柱剖分$\\mathcal{V}_h=span \\left\\{ \\varphi_1,...,\\varphi_n \\right\\}\\subset H^{1}(V)$，$q_h=\\sum_{i=1}^{n} q_{i}\\varphi_{i},v_h=\\sum_{i=1}^{n} v_{i} \\varphi_{i},w_h=\\sum_{i=1}^{n} w_{i} \\varphi_{i}$。得传播方程的有限元离散形式\n",
    "\n",
    "\\begin{equation}\n",
    "\\left(\\frac{\\partial}{\\partial s} q_{h}, v_{h}\\right)_{\\mathcal{V}_{h}}=-\\left(\\nabla_{\\mathcal{V}_{h}} q_{h}, \\nabla_{\\mathcal{V}_{h}} v_{h}\\right)_{\\mathcal{V}_{h}}-\\left(w_{h} q_{h}, v_{h}\\right)_{\\mathcal{V}_{h}}, \\quad \\text { for all } v_{h} \\in \\mathcal{V}_{h}\n",
    "\\end{equation}\n",
    "\n",
    "我们记$M_{i, j}=\\left(\\varphi_{i}, \\varphi_{j}\\right), A_{i, j}=\\left(\\nabla_{V} \\varphi_{i}, \\nabla_{V} \\varphi_{j}\\right), F_{i, j}=\\left(w_{h} \\varphi_{i}, \\varphi_{j}\\right)$和$\\mathbf{q}(s)=\\left(q_{1}, q_{2}, \\cdots, q_{n}\\right)^{T}$\n",
    "\n",
    "得半离散矩阵形式：\n",
    "\\begin{equation}\n",
    "M \\frac{\\partial}{\\partial s} \\mathbf{q}(s)=-(A+F) \\mathbf{q}(s)\n",
    "\\end{equation}\n",
    "\n",
    "### 离散形式：Crank-Nicolson\n",
    "对于$\\partial q / \\partial s=f$函数的Crank-Nicolson逼近是：\n",
    "\\begin{equation}\n",
    "\\frac{q^{n}-q^{n-1}}{\\Delta s} \\approx \\frac{1}{2}\\left(f^{n}+f^{n-1}\\right)\n",
    "\\end{equation}\n",
    "得\n",
    "\\begin{equation}\n",
    "M \\frac{\\mathbf{q}^{n+1}-\\mathbf{q}^{n}}{d s}=-\\frac{1}{2}(A+F)\\left[\\mathbf{q}^{n+1}+\\mathbf{q}^{n}\\right]\n",
    "\\end{equation}\n",
    "其中上标表示路径步数，化简得\n",
    "\\begin{equation}\n",
    "\\left[M+\\frac{d s}{2}(A+F)\\right] \\mathbf{q}^{n+1}=-\\frac{d s}{2}(A+F) \\mathbf{q}^{n}\n",
    "\\end{equation}\n",
    "\n",
    "### s-方向上的积分格式：\n",
    "\n",
    "对于密度算子，用四阶离散格式\n",
    "\n",
    "\\begin{equation}\n",
    "\\int_{0}^{n_{s}} d t f(s)=\\Delta s\\left\\{-\\frac{5}{8}\\left(f_{0}+f_{n_{s}}\\right)+\\frac{1}{6}\\left(f_{1}+f_{n_{s}-1}\\right)-\\frac{1}{24}\\left(f_{2}+f_{n_{s}-2}\\right)+\\sum_{j=0}^{n_{s}} f_{j}\\right\\}\n",
    "\\end{equation}\n",
    "\n",
    "### 体积积分 $\\int \\mathrm{d} x$\n",
    "对于任意的$v_{h}=\\sum_{i=1}^{n} v_{i} \\varphi_{i}(x) \\in \\mathcal{V}_{h}$，用下面的公式计算$\\mathcal{V}_{h}$上的$v_h$积分\n",
    "\n",
    "\\begin{equation}\n",
    "\\int_{\\mathcal{V}_{h}} v_{h} \\mathrm{d} x=\\sum_{\\tau_{h} \\in \\mathcal{T}_{h}} \\int_{\\tau_{h}} v_{i} \\varphi_{i}(x)+v_{j} \\varphi_{j}(x)+v_{k} \\varphi_{k}(x) + v_{l} \\varphi_{l}(x) \\mathrm{d} x=\\sum_{\\tau_{h} \\in \\mathcal{T}_{h}} \\frac{v_{i}+v_{j}+v_{k}+v_{l}}{4}\\left|\\tau_{h}\\right|\n",
    "\\end{equation}\n",
    "\n",
    "其中$v_{i}, v_{j}, v_{k},v_{l}$是三棱锥单元$\\tau_{h}$的四个顶点值，$\\left|\\tau_{h}\\right|$是三棱锥$\\tau_{h}$的体积。"
   ]
  },
  {
   "cell_type": "markdown",
   "metadata": {},
   "source": [
    "### 网格生成：\n",
    "球壳的网格生成利用球面的网格，同一个圆心，分别取半径为$R_1,R_2$，且$R_1<R_2$，现在我们已经可以生成球面网格，所以现将$R_1$的球面网格点投影到$R_2$球面上，"
   ]
  },
  {
   "cell_type": "code",
   "execution_count": null,
   "metadata": {},
   "outputs": [],
   "source": []
  }
 ],
 "metadata": {
  "kernelspec": {
   "display_name": "Python 3",
   "language": "python",
   "name": "python3"
  },
  "language_info": {
   "codemirror_mode": {
    "name": "ipython",
    "version": 3
   },
   "file_extension": ".py",
   "mimetype": "text/x-python",
   "name": "python",
   "nbconvert_exporter": "python",
   "pygments_lexer": "ipython3",
   "version": "3.6.7"
  }
 },
 "nbformat": 4,
 "nbformat_minor": 2
}
