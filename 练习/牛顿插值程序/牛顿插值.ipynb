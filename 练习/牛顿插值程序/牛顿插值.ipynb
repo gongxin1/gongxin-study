{
 "cells": [
  {
   "cell_type": "code",
   "execution_count": 1,
   "metadata": {},
   "outputs": [],
   "source": [
    "import numpy as np"
   ]
  },
  {
   "cell_type": "code",
   "execution_count": 2,
   "metadata": {},
   "outputs": [],
   "source": [
    "def get_diff_quo(xi, fi):\n",
    "    if len(xi) > 2 and len(fi) > 2:\n",
    "        return (get_diff_quo(xi[:len(xi)-1], fi[:len(fi)-1]) - get_diff_quo(xi[1:len(xi)], fi[1:len(fi)])) / float(xi[0] - xi[-1])\n",
    "    return (fi[0]-fi[1]) / float(xi[0]-xi[1])"
   ]
  },
  {
   "cell_type": "code",
   "execution_count": 7,
   "metadata": {},
   "outputs": [],
   "source": [
    "def get_w(i, xi):\n",
    "    def wi(x):\n",
    "        result = 1.0\n",
    "        for j in range(i):\n",
    "            result *= (x - xi[j])\n",
    "        return result\n",
    "    return wi"
   ]
  },
  {
   "cell_type": "code",
   "execution_count": 8,
   "metadata": {},
   "outputs": [],
   "source": [
    "def get_Newton(xi, fi):\n",
    "    def Newton(x):\n",
    "        result = fi[0]\n",
    "        for i in range(2, len(xi)):\n",
    "            result += (get_diff_quo(xi[:i], fi[:i]) * get_w(i-1, xi)(x))\n",
    "        return result\n",
    "    return Newton"
   ]
  },
  {
   "cell_type": "code",
   "execution_count": 9,
   "metadata": {},
   "outputs": [],
   "source": [
    "xn = [i for i in range(-50, 50, 10)]\n",
    "fn = [i**2 for i in xn]\n",
    " "
   ]
  },
  {
   "cell_type": "code",
   "execution_count": 13,
   "metadata": {},
   "outputs": [],
   "source": [
    "Nx = get_Newton(xn, fn)"
   ]
  },
  {
   "cell_type": "code",
   "execution_count": 14,
   "metadata": {},
   "outputs": [],
   "source": [
    "tmp_x = [i for i in range(-50, 51)]\n",
    "tmp_y = [Nx(i) for i in tmp_x]"
   ]
  },
  {
   "cell_type": "code",
   "execution_count": null,
   "metadata": {},
   "outputs": [],
   "source": []
  }
 ],
 "metadata": {
  "kernelspec": {
   "display_name": "Python 3",
   "language": "python",
   "name": "python3"
  },
  "language_info": {
   "codemirror_mode": {
    "name": "ipython",
    "version": 3
   },
   "file_extension": ".py",
   "mimetype": "text/x-python",
   "name": "python",
   "nbconvert_exporter": "python",
   "pygments_lexer": "ipython3",
   "version": "3.6.5"
  }
 },
 "nbformat": 4,
 "nbformat_minor": 2
}
