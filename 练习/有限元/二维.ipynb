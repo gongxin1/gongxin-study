{
 "cells": [
  {
   "cell_type": "code",
   "execution_count": 3,
   "metadata": {},
   "outputs": [
    {
     "name": "stdout",
     "output_type": "stream",
     "text": [
      "5.09920925636e-18\n"
     ]
    }
   ],
   "source": [
    "import numpy as np\n",
    "box = [0,1,0,1]                  #方程所在的区域\n",
    "ny = 8\n",
    "nx = ny \n",
    "NN = (nx+1)*(ny+1)               #节点数\n",
    "NC = nx*ny                       #边数\n",
    "node = np.zeros((NN,2))          #生成一个node零矩阵\n",
    "#complex() 函数用于创建一个值为 real + imag * j 的复数或者转化一个字符串或数为复数\n",
    "#mgrid()函数生成在0到1均匀八等份的节点\n",
    "Y,X= np.mgrid[box[0]:box[1]:complex(nx+1),box[2]:box[3]:complex(ny+1)]\n",
    "node[:,0] = X.flatten()\n",
    "node[:,1] = Y.flatten()\n",
    "cell = np.zeros((2*NC,3),dtype = np.int)\n",
    "sign = np.arange(NN).reshape(ny+1,nx+1)\n",
    "cell[:NC,0] = sign[0:-1,1:].flatten() \n",
    "cell[:NC,1] = sign[1:,1:].flatten()\n",
    "cell[:NC,2] = sign[0:-1,0:-1].flatten()\n",
    "cell[NC:,0] = sign[1:,0:-1].flatten() \n",
    "cell[NC:,1] = sign[0:-1,0:-1].flatten()\n",
    "cell[NC:,2] = sign[1:,1:].flatten()\n",
    "v0 = node[cell[:, 2], :] - node[cell[:, 1], :]\n",
    "v1 = node[cell[:, 0], :] - node[cell[:, 2], :]\n",
    "v2 = node[cell[:, 1], :] - node[cell[:, 0], :]\n",
    "length = np.cross(v2, -v1)\n",
    "Dlambda = np.zeros((2*NC, 3, 2), dtype=np.float)\n",
    "W = np.array([[0, 1], [-1, 0]], dtype=np.int)\n",
    "Dlambda[:,0,:] = v0@W/length.reshape(-1,1)\n",
    "Dlambda[:,1,:] = v1@W/length.reshape(-1,1)\n",
    "Dlambda[:,2,:] = v2@W/length.reshape(-1,1)\n",
    "A1=np.zeros((2*NC,3,3))\n",
    "A=np.zeros((NN,NN))\n",
    "for i in np.arange(2*NC):\n",
    "    for j in np.arange(3):\n",
    "        for k in np.arange(3):\n",
    "            A1[i,j,k] = Dlambda[i][j]@Dlambda[i][k]*length[i]/2\n",
    "for i in np.arange(2*NC):\n",
    "    for j in np.arange(3):\n",
    "        for k in np.arange(3):\n",
    "            A[cell[i][j],cell[i][k]]=A[cell[i][j],cell[i][k]]+A1[i][j][k]            \n",
    "def f(x,y):\n",
    "    f = -2*(x*(x-1)+y*(y-1))\n",
    "    return f\n",
    "b=np.zeros(NN)\n",
    "B=np.zeros((2*NC,3))\n",
    "for i in np.arange(2*NC):\n",
    "    for j in np.arange(3):\n",
    "        B[i,j]=f(node[cell[:, j], :][i][0],node[cell[:, j], :][i][1])*length[i]/6\n",
    "for i in np.arange(2*NC):\n",
    "    for j in np.arange(3):\n",
    "        b[cell[i][j]]=b[cell[i][j]]+B[i][j]\n",
    "def u(x,y):\n",
    "    u = x*(x-1)*y*(y-1)\n",
    "    return u\n",
    "point_bound_down = np.arange(nx+1)\n",
    "point_bound_up = np.arange(ny*(nx+1),(ny+1)*(nx+1))\n",
    "point_bound_left = np.arange((nx+1),(ny)*(nx+1),(nx+1))\n",
    "point_bound_right = np.arange((2*nx+1),(ny+1)*(nx+1)-1,(nx+1))\n",
    "point_bound_1 = np.append(point_bound_down,point_bound_up)\n",
    "point_bound_2 = np.append(point_bound_left,point_bound_right)\n",
    "point_bound = np.append(point_bound_1,point_bound_2)\n",
    "point_bound = sorted(point_bound)\n",
    "point_inside = np.setdiff1d(range(NN),point_bound)\n",
    "u_bound=[u(node[i][0],node[i][1])for i in point_bound]\n",
    "b-=A[:,point_bound]@u_bound\n",
    "b[point_bound]=u_bound\n",
    "A[point_bound,:]=0\n",
    "A[:,point_bound]=0\n",
    "A[point_bound,point_bound]=1\n",
    "uh = np.linalg.solve(A,b)\n",
    "uu = [u(node[i][0],node[i][1])for i in range(NN)]\n",
    "# A_inside = A[point_inside,:][:,point_inside]\n",
    "# b_inside = b[point_inside]\n",
    "# uh_inside = uh[point_inside]\n",
    "u_h = np.zeros((2*NC,3))\n",
    "for i in np.arange(2*NC):\n",
    "    u_h[i,:] = uh[cell[i,:]]\n",
    "u_u = np.zeros((2*NC,3))\n",
    "for i in np.arange(2*NC):\n",
    "    for j in np.arange(3):\n",
    "        u_u[i,j] = u(node[cell[:,j],:][i][0],node[cell[:,j],:][i][1])\n",
    "for i in np.arange(2*NC):\n",
    "    e = ((u_u-u_h)**2*length[i]/6).sum()\n",
    "    L2error = np.sqrt(e)\n",
    "print(L2error)"
   ]
  },
  {
   "cell_type": "code",
   "execution_count": 4,
   "metadata": {},
   "outputs": [
    {
     "data": {
      "text/plain": [
       "array([  0.00000000e+00,   0.00000000e+00,   0.00000000e+00,\n",
       "         0.00000000e+00,   0.00000000e+00,   0.00000000e+00,\n",
       "         0.00000000e+00,   0.00000000e+00,   0.00000000e+00,\n",
       "         0.00000000e+00,   0.00000000e+00,   0.00000000e+00,\n",
       "         0.00000000e+00,   3.46944695e-18,   3.46944695e-18,\n",
       "         0.00000000e+00,   1.73472348e-18,   0.00000000e+00,\n",
       "         0.00000000e+00,   0.00000000e+00,   0.00000000e+00,\n",
       "         6.93889390e-18,   6.93889390e-18,   6.93889390e-18,\n",
       "         0.00000000e+00,   0.00000000e+00,   0.00000000e+00,\n",
       "         0.00000000e+00,   3.46944695e-18,   0.00000000e+00,\n",
       "         1.38777878e-17,   6.93889390e-18,   0.00000000e+00,\n",
       "         0.00000000e+00,   3.46944695e-18,   0.00000000e+00,\n",
       "         0.00000000e+00,   3.46944695e-18,   6.93889390e-18,\n",
       "         6.93889390e-18,   0.00000000e+00,   0.00000000e+00,\n",
       "        -6.93889390e-18,   0.00000000e+00,   0.00000000e+00,\n",
       "         0.00000000e+00,   0.00000000e+00,   0.00000000e+00,\n",
       "         0.00000000e+00,  -6.93889390e-18,  -2.08166817e-17,\n",
       "         6.93889390e-18,   0.00000000e+00,   0.00000000e+00,\n",
       "         0.00000000e+00,   3.46944695e-18,   6.93889390e-18,\n",
       "         1.38777878e-17,   6.93889390e-18,   6.93889390e-18,\n",
       "         6.93889390e-18,  -3.46944695e-18,   0.00000000e+00,\n",
       "         0.00000000e+00,   0.00000000e+00,   0.00000000e+00,\n",
       "         6.93889390e-18,   6.93889390e-18,   3.46944695e-18,\n",
       "        -3.46944695e-18,  -3.46944695e-18,   0.00000000e+00,\n",
       "         0.00000000e+00,   0.00000000e+00,   0.00000000e+00,\n",
       "         0.00000000e+00,   0.00000000e+00,   0.00000000e+00,\n",
       "         0.00000000e+00,   0.00000000e+00,   0.00000000e+00])"
      ]
     },
     "execution_count": 4,
     "metadata": {},
     "output_type": "execute_result"
    }
   ],
   "source": [
    "uu-uh"
   ]
  },
  {
   "cell_type": "code",
   "execution_count": null,
   "metadata": {},
   "outputs": [],
   "source": []
  },
  {
   "cell_type": "code",
   "execution_count": null,
   "metadata": {},
   "outputs": [],
   "source": []
  }
 ],
 "metadata": {
  "kernelspec": {
   "display_name": "Python 3",
   "language": "python",
   "name": "python3"
  },
  "language_info": {
   "codemirror_mode": {
    "name": "ipython",
    "version": 3
   },
   "file_extension": ".py",
   "mimetype": "text/x-python",
   "name": "python",
   "nbconvert_exporter": "python",
   "pygments_lexer": "ipython3",
   "version": "3.6.5"
  }
 },
 "nbformat": 4,
 "nbformat_minor": 2
}
