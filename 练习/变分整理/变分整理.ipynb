{
 "cells": [
  {
   "cell_type": "markdown",
   "metadata": {},
   "source": [
    "\\section{变分定义}\n",
    "函数$y(x)$的变分：在同一定义域上的两个函数$y(x),m(x)$,若彼此任意接近，那么$m(x)$与$y(x)$之差，记$\\delta y(x)=m(x)-y(x)$称$y(x)$的变分。\n",
    "\n",
    "变分$\\delta y$反映了整个函数的变化，而函数增量$ \\Delta y $反应的是同一个函数由于自变量的取值不同引起的变化。\n",
    "\n",
    "泛函的变分：对任意一个泛函$J[y]$,函数$y$引起的泛函增量为$\\Delta J=J[y+\\delta y]-J[y]=L[y,\\delta y]+\\dfrac{1}{2!}Q[y,\\delta y]+o(||\\delta y||^2)$\n",
    "\n",
    "其中$L(y,\\delta y)$是关于$\\delta y$的线性泛函，$Q[y,\\delta y]$是关于$\\delta y$的两次线性泛函。\n",
    "\n",
    "则泛函的一阶变分$\\delta J=L[y,\\delta y]$,二阶变分$\\delta^2J=Q[y,\\delta y]$\n",
    "\n",
    "变分的另一种求法，任给一个齐次函数$\\eta(x)$,边界值为零，对任意小的一个实数$\\varepsilon$,$y^{*}(x)=y(x)+\\varepsilon\\eta(x)$当$\\varepsilon=0$\n",
    "\n",
    "$\\delta J=\\varepsilon\\dfrac{dJ[y+\\varepsilon\\eta]}{d\\varepsilon}$\n",
    "\n",
    "$\\delta^2 J=\\frac{1}{2!}\\varepsilon^2\\dfrac{d^2J[y+\\varepsilon\\eta]}{d\\varepsilon^2}$\n",
    "\n",
    "\\section{泛函例子}\n",
    "例：已知泛函$J[y]=\\int_{a}^{b}F(x,y,y^{'})\\,\\mathrm{d}x$\n",
    "\n",
    "$ \\delta J[y]=\\int_{a}^{b}[\\dfrac{\\partial F}{\\partial y}\\delta y+\\dfrac{\\partial F}{\\partial y^{'}}\\delta y^{'}]\\,\\mathrm{d}x $\n",
    "\n",
    "$=\\dfrac{\\partial F}{\\partial y^{'}}(\\delta y)+\\int_{a}^{b}[\\dfrac{\\partial F}{\\partial y}+\\dfrac{d}{dx}(\\dfrac{\\partial F}{\\partial y^{'}})]\\delta y\\,\\mathrm{d}x $\n",
    "\n",
    "例：最短线问题，设经过$A,B$两点距离最短曲线方程为$y^{*}(x)$,另有任意连续可导函数$\\eta=\\eta(x)$,且$\\eta(x)$满足$\\eta(x_{0})=\\eta(x_{1})=0$,则$y=y^{*}+\\alpha\\eta(x)$仍是过$A,B$的连续曲线，其对应长度为$L(a)=\\int_{x_{0}}^{x_{1}}\\sqrt{1+(y^{*})^{'}+\\alpha\\eta^{'})^2}\\,\\mathrm{d}x$\n",
    "\n",
    "当$a=0$，$y=y^{*}(x)$时$L(a)$取极小值，即$\\dfrac{dL(a)}{da}=0$在$a=0$的地方\n",
    "\n",
    "$\\dfrac{dL(a)}{da}=\\int_{x_{0}}^{x_{1}}\\dfrac{((y^{*})^{'}+\\alpha\\eta^{'})\\eta^{'}}{\\sqrt{1+((y^{*})^{'})^2}}\\,\\mathrm{d}x$\n",
    "\n",
    "$=\\int_{x_{0}}^{x_{1}}\\dfrac{(y^{*})^{'}\\eta^{'}}{\\sqrt{1+(y^{*})^2}}\\,\\mathrm{d}x$ \n",
    "\n",
    "$=\\dfrac{(y^{*})^{'}\\eta}{\\sqrt{1+(y^{*})^2}}-\\int_{x_{0}}^{x_{1}}(\\dfrac{(y^{*})^{'}}{\\sqrt{1+((y^{*})^{'})^2}})^{'}\\eta\\,\\mathrm{d}x$\n",
    "\n",
    "$=-\\int_{x_{0}}^{x_{1}}(\\dfrac{(y^{*})^{''}}{\\sqrt{1+(y^{*})^2}}-\\dfrac{(y^{*})^{'} (y^{*})^{'}(y^{*}){''}}{\\sqrt{1+(y^{*})^3}}))\\eta\\,\\mathrm{d}x$\n",
    "\n",
    "$=-\\int_{x_{0}}^{x_{1}}\\dfrac{y^{''}}{\\sqrt{1+((y^{*})^{2})^3}}\\eta\\,\\mathrm{d}x$\n",
    "\n",
    "由$\\eta(x)$的任意性，由变分引理可得$\\dfrac{y^{''}}{\\sqrt{1+((y^{*})^{2}})^{3}}=0$"
   ]
  },
  {
   "cell_type": "markdown",
   "metadata": {},
   "source": [
    "$\\delta J=\\varepsilon\\dfrac{dJ[y+\\varepsilon\\eta]}{d\\varepsilon}$\n",
    "\n",
    "$\\delta^2 J=\\frac{1}{2!}\\varepsilon^2\\dfrac{d^2J[y+\\varepsilon\\eta]}{d\\varepsilon^2}$"
   ]
  },
  {
   "cell_type": "code",
   "execution_count": null,
   "metadata": {},
   "outputs": [],
   "source": []
  }
 ],
 "metadata": {
  "kernelspec": {
   "display_name": "Python 3",
   "language": "python",
   "name": "python3"
  },
  "language_info": {
   "codemirror_mode": {
    "name": "ipython",
    "version": 3
   },
   "file_extension": ".py",
   "mimetype": "text/x-python",
   "name": "python",
   "nbconvert_exporter": "python",
   "pygments_lexer": "ipython3",
   "version": "3.6.5"
  }
 },
 "nbformat": 4,
 "nbformat_minor": 2
}
