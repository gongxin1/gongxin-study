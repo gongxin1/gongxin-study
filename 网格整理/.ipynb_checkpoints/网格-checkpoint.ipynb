{
 "cells": [
  {
   "cell_type": "markdown",
   "metadata": {},
   "source": [
    "## 下面介绍在二维平面的三角网格、四边形网格，三维空间中的四面体网格，六面体网格的单元cell和节点node\n",
    "### 首先我们先将所有节点从0开始标注，然后再标记我们的网格，一般我们从逆时针开始，有时为了方便，我们也会再加强一下要求，例如下面三角形网格，我们规定从直角的节点开始."
   ]
  },
  {
   "cell_type": "markdown",
   "metadata": {},
   "source": [
    "## 下面是二维平面的三角形剖分"
   ]
  },
  {
   "cell_type": "markdown",
   "metadata": {},
   "source": [
    "![](二维三角形剖分.png)"
   ]
  },
  {
   "cell_type": "markdown",
   "metadata": {},
   "source": [
    "## node=[[0,0],[1,0],[2,0],[0,1],[1,1],[2,1],[0,2],[1,2],[2,2]]\n",
    "## cell=[[3,0,4],[1,4,0],[4,1,5],[2,5,1],[6,3,7],[4,7,3],[7,4,8],[5,8,4]]"
   ]
  },
  {
   "cell_type": "markdown",
   "metadata": {},
   "source": [
    "## 下面是二维平面的四边形剖分"
   ]
  },
  {
   "cell_type": "markdown",
   "metadata": {},
   "source": [
    "![](二维四边形剖分.png)"
   ]
  },
  {
   "cell_type": "markdown",
   "metadata": {},
   "source": [
    "## node=[[0,0],[1,0],[2,0],[0,1],[1,1],[2,1],[0,2],[1,2],[2,2]]\n",
    "## cell=[[0,1,5,4],[1,3,6,5],[4,5,8,7],[5,6,9,8]]"
   ]
  },
  {
   "cell_type": "markdown",
   "metadata": {},
   "source": [
    "## 下面是三维空间的六面形剖分"
   ]
  },
  {
   "cell_type": "markdown",
   "metadata": {},
   "source": [
    "![](三维六面体剖分.png)"
   ]
  },
  {
   "cell_type": "markdown",
   "metadata": {},
   "source": [
    "## node=[[0,0,0],[1,0,0],[1,1,0],[1,2,0],[0,2,0],[0,1,0],[0,0,1],[1,0,1],[1,1,1],[1,2,1],[0,2,1],[0,1,1],[0,0,2],[1,0,2],[1,1,2],[1,2,2],[0,2,2]]\n",
    "## cell=[[0,1,2,5,6,7,8,11],[5,2,3,4,11,8,9,10],[6,7,8,11,12,13,14,17],[11,8,9,10,17,14,15,16]]\n"
   ]
  },
  {
   "cell_type": "markdown",
   "metadata": {},
   "source": [
    "## 下面是三维空间的四面形剖分"
   ]
  },
  {
   "attachments": {},
   "cell_type": "markdown",
   "metadata": {},
   "source": [
    "![](三维四面体剖分.png)"
   ]
  },
  {
   "attachments": {},
   "cell_type": "markdown",
   "metadata": {},
   "source": [
    "![](三维四面体剖分2.png)"
   ]
  },
  {
   "cell_type": "markdown",
   "metadata": {},
   "source": [
    "## 由上图可知，一共有6个四面体，分别记为S0，S1，S2，S3，S4，S5。用矩阵node表示这些四面体节点的坐标，用cell表示构成这些四面体的节点，如下：\n",
    "\n",
    "## node = [[0,0,0],[1,0,0],[1,1,0],[0,1,0],[1,0,1],[1,1,1],[0,1,1],[0,0,1]]\n",
    "## cell = [[0,1,2,5],[7,5,2,6],[4,2,5,0],[3,0,2,7],[5,4,7,0],[5,7,2,0]]"
   ]
  }
 ],
 "metadata": {
  "kernelspec": {
   "display_name": "Python 3",
   "language": "python",
   "name": "python3"
  },
  "language_info": {
   "codemirror_mode": {
    "name": "ipython",
    "version": 3
   },
   "file_extension": ".py",
   "mimetype": "text/x-python",
   "name": "python",
   "nbconvert_exporter": "python",
   "pygments_lexer": "ipython3",
   "version": "3.6.5"
  }
 },
 "nbformat": 4,
 "nbformat_minor": 2
}
